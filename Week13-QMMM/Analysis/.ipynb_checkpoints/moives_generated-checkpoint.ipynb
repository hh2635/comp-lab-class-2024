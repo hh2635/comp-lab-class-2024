{
 "cells": [
  {
   "cell_type": "code",
   "execution_count": 1,
   "id": "4c52693f-5269-4bd8-a62a-cb09077b260f",
   "metadata": {},
   "outputs": [
    {
     "name": "stderr",
     "output_type": "stream",
     "text": [
      "ffmpeg version 6.1 Copyright (c) 2000-2023 the FFmpeg developers\n",
      "  built with gcc 12.3.0 (conda-forge gcc 12.3.0-3)\n",
      "  configuration: --prefix=/home/conda/feedstock_root/build_artifacts/ffmpeg_1700971142524/_h_env_placehold_placehold_placehold_placehold_placehold_placehold_placehold_placehold_placehold_placehold_placehold_placehold_placehold_placehold_placehold_placehold_placehold_placehold_plac --cc=/home/conda/feedstock_root/build_artifacts/ffmpeg_1700971142524/_build_env/bin/x86_64-conda-linux-gnu-cc --cxx=/home/conda/feedstock_root/build_artifacts/ffmpeg_1700971142524/_build_env/bin/x86_64-conda-linux-gnu-c++ --nm=/home/conda/feedstock_root/build_artifacts/ffmpeg_1700971142524/_build_env/bin/x86_64-conda-linux-gnu-nm --ar=/home/conda/feedstock_root/build_artifacts/ffmpeg_1700971142524/_build_env/bin/x86_64-conda-linux-gnu-ar --disable-doc --disable-openssl --enable-demuxer=dash --enable-hardcoded-tables --enable-libfreetype --enable-libfontconfig --enable-libopenh264 --enable-libdav1d --enable-gnutls --enable-libmp3lame --enable-libvpx --enable-libass --enable-pthreads --enable-vaapi --enable-gpl --enable-libx264 --enable-libx265 --enable-libaom --enable-libsvtav1 --enable-libxml2 --enable-pic --enable-shared --disable-static --enable-version3 --enable-zlib --enable-libopus --pkg-config=/home/conda/feedstock_root/build_artifacts/ffmpeg_1700971142524/_build_env/bin/pkg-config\n",
      "  libavutil      58. 29.100 / 58. 29.100\n",
      "  libavcodec     60. 31.102 / 60. 31.102\n",
      "  libavformat    60. 16.100 / 60. 16.100\n",
      "  libavdevice    60.  3.100 / 60.  3.100\n",
      "  libavfilter     9. 12.100 /  9. 12.100\n",
      "  libswscale      7.  5.100 /  7.  5.100\n",
      "  libswresample   4. 12.100 /  4. 12.100\n",
      "  libpostproc    57.  3.100 / 57.  3.100\n",
      "Input #0, image2, from '/scratch/wx2237/comp-lab-class/comp-lab-class-2024/Week13-QMMM/Figures/moviesfigure/dynamic_bonds_movie%04d.png':\n",
      "  Duration: 00:00:01.60, start: 0.000000, bitrate: N/A\n",
      "  Stream #0:0: Video: png, rgba(pc, gbr/unknown/unknown), 1920x1080 [SAR 11811:11811 DAR 16:9], 10 fps, 10 tbr, 10 tbn\n",
      "File '/scratch/wx2237/comp-lab-class/comp-lab-class-2024/Week13-QMMM/Figures/reaction_movie.mp4' already exists. Overwrite? [y/N] Not overwriting - exiting\n",
      "Error opening output file /scratch/wx2237/comp-lab-class/comp-lab-class-2024/Week13-QMMM/Figures/reaction_movie.mp4.\n",
      "ffmpeg version 6.1 Copyright (c) 2000-2023 the FFmpeg developers\n",
      "  built with gcc 12.3.0 (conda-forge gcc 12.3.0-3)\n",
      "  configuration: --prefix=/home/conda/feedstock_root/build_artifacts/ffmpeg_1700971142524/_h_env_placehold_placehold_placehold_placehold_placehold_placehold_placehold_placehold_placehold_placehold_placehold_placehold_placehold_placehold_placehold_placehold_placehold_placehold_plac --cc=/home/conda/feedstock_root/build_artifacts/ffmpeg_1700971142524/_build_env/bin/x86_64-conda-linux-gnu-cc --cxx=/home/conda/feedstock_root/build_artifacts/ffmpeg_1700971142524/_build_env/bin/x86_64-conda-linux-gnu-c++ --nm=/home/conda/feedstock_root/build_artifacts/ffmpeg_1700971142524/_build_env/bin/x86_64-conda-linux-gnu-nm --ar=/home/conda/feedstock_root/build_artifacts/ffmpeg_1700971142524/_build_env/bin/x86_64-conda-linux-gnu-ar --disable-doc --disable-openssl --enable-demuxer=dash --enable-hardcoded-tables --enable-libfreetype --enable-libfontconfig --enable-libopenh264 --enable-libdav1d --enable-gnutls --enable-libmp3lame --enable-libvpx --enable-libass --enable-pthreads --enable-vaapi --enable-gpl --enable-libx264 --enable-libx265 --enable-libaom --enable-libsvtav1 --enable-libxml2 --enable-pic --enable-shared --disable-static --enable-version3 --enable-zlib --enable-libopus --pkg-config=/home/conda/feedstock_root/build_artifacts/ffmpeg_1700971142524/_build_env/bin/pkg-config\n",
      "  libavutil      58. 29.100 / 58. 29.100\n",
      "  libavcodec     60. 31.102 / 60. 31.102\n",
      "  libavformat    60. 16.100 / 60. 16.100\n",
      "  libavdevice    60.  3.100 / 60.  3.100\n",
      "  libavfilter     9. 12.100 /  9. 12.100\n",
      "  libswscale      7.  5.100 /  7.  5.100\n",
      "  libswresample   4. 12.100 /  4. 12.100\n",
      "  libpostproc    57.  3.100 / 57.  3.100\n",
      "Input #0, image2, from '/scratch/wx2237/comp-lab-class/comp-lab-class-2024/Week13-QMMM/Figures/moviesfigure/dynamic_bonds_movie%04d.png':\n",
      "  Duration: 00:00:01.60, start: 0.000000, bitrate: N/A\n",
      "  Stream #0:0: Video: png, rgba(pc, gbr/unknown/unknown), 1920x1080 [SAR 11811:11811 DAR 16:9], 10 fps, 10 tbr, 10 tbn\n",
      "File '/scratch/wx2237/comp-lab-class/comp-lab-class-2024/Week13-QMMM/Figures/reaction_movie.gif' already exists. Overwrite? [y/N] Not overwriting - exiting\n",
      "Error opening output file /scratch/wx2237/comp-lab-class/comp-lab-class-2024/Week13-QMMM/Figures/reaction_movie.gif.\n"
     ]
    },
    {
     "data": {
      "text/plain": [
       "0"
      ]
     },
     "execution_count": 1,
     "metadata": {},
     "output_type": "execute_result"
    }
   ],
   "source": [
    "import os\n",
    "import mdtraj as md\n",
    "from pymol import cmd\n",
    "\n",
    "# 文件路径配置\n",
    "trajectory_file = \"/home/hh2635/comp-lab-class/comp-lab-class-2024/Week13-QMMM/Outputs/metad1_initmonitor/METADYN-pos-00.xyz.gz\"\n",
    "topology_file = \"/home/hh2635/comp-lab-class/comp-lab-class-2024/Week13-QMMM/Outputs/metad1_initmonitor/complex_LJ_mod.prmtop\"\n",
    "pdb_movies_file = \"/home/hh2635/comp-lab-class/comp-lab-class-2024/Week13-QMMM/Analysis/trajectorymovies.pdb\"\n",
    "output_dir = \"/home/hh2635/comp-lab-class/comp-lab-class-2024/Week13-QMMM/Figures\"\n",
    "frame_dir = os.path.join(output_dir, \"moviesfigure\")  # 存储每帧图片的目录\n",
    "movie_file = os.path.join(output_dir, \"reaction_movie.mp4\")  # 生成的MP4电影文件\n",
    "gif_file = os.path.join(output_dir, \"reaction_movie.gif\")  # 生成的GIF文件\n",
    "\n",
    "# 确保输出目录存在\n",
    "os.makedirs(frame_dir, exist_ok=True)\n",
    "os.makedirs(output_dir, exist_ok=True)\n",
    "\n",
    "# 重新生成未抽帧的 PDB 文件\n",
    "traj = md.load(trajectory_file, top=topology_file)\n",
    "traj.save_pdb(pdb_movies_file)\n",
    " \n",
    "# 使用 PyMOL 生成每帧图像\n",
    "cmd.reinitialize()\n",
    "cmd.load(pdb_movies_file, \"traj\")\n",
    "\n",
    "# 设置显示样式\n",
    "cmd.hide(\"everything\")\n",
    "cmd.show(\"cartoon\", \"all\")\n",
    "cmd.select(\"ligand\", \"resname CHA\")\n",
    "cmd.select(\"nearby\", \"byres (ligand around 3)\")\n",
    "cmd.show(\"sticks\", \"ligand or nearby\")\n",
    "cmd.color(\"cyan\", \"ligand and elem C\")\n",
    "cmd.color(\"magenta\", \"nearby and elem C\")\n",
    "cmd.color(\"red\", \"elem O\")\n",
    "cmd.color(\"blue\", \"elem N\")\n",
    "cmd.color(\"yellow\", \"elem S\")\n",
    "cmd.color(\"orange\", \"elem P\")\n",
    "\n",
    "# 放大并居中到配体及其附近残基\n",
    "cmd.center(\"ligand or nearby\")  # 确保视图中心在配体和附近残基\n",
    "cmd.zoom(\"ligand or nearby\", buffer=5)  # 放大视图，缓冲范围设置为 5 Å\n",
    "cmd.bg_color(\"white\")\n",
    "\n",
    "# 逐帧生成图片\n",
    "frame_count = cmd.count_states(\"traj\")\n",
    "for frame in range(1, frame_count + 1):\n",
    "    cmd.frame(frame)\n",
    "    cmd.ray(1920, 1080)  # 设置分辨率为 1920x1080\n",
    "    frame_path = os.path.join(frame_dir, f\"dynamic_bonds_movie{frame:04d}.png\")\n",
    "    cmd.png(frame_path, dpi=300)\n",
    "\n",
    "# 使用 ffmpeg 生成 MP4 电影\n",
    "os.system(f\"ffmpeg -framerate 10 -i {frame_dir}/dynamic_bonds_movie%04d.png -c:v libx264 -pix_fmt yuv420p {movie_file}\")\n",
    "\n",
    "# 使用 ffmpeg 生成 GIF 动画\n",
    "os.system(f\"ffmpeg -framerate 10 -i {frame_dir}/dynamic_bonds_movie%04d.png -vf \\\"scale=800:-1:flags=lanczos\\\" {gif_file}\")\n"
   ]
  },
  {
   "cell_type": "code",
   "execution_count": null,
   "id": "d5274475-959e-4866-be0d-7b6cefabccab",
   "metadata": {},
   "outputs": [],
   "source": []
  }
 ],
 "metadata": {
  "kernelspec": {
   "display_name": "Python (myenv)",
   "language": "python",
   "name": "myenv"
  },
  "language_info": {
   "codemirror_mode": {
    "name": "ipython",
    "version": 3
   },
   "file_extension": ".py",
   "mimetype": "text/x-python",
   "name": "python",
   "nbconvert_exporter": "python",
   "pygments_lexer": "ipython3",
   "version": "3.9.18"
  }
 },
 "nbformat": 4,
 "nbformat_minor": 5
}
