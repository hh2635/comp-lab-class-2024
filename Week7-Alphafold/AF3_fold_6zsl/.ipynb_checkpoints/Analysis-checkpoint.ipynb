{
 "cells": [
  {
   "cell_type": "code",
   "execution_count": 4,
   "id": "dca64877-17b7-4cbb-b797-9f75af1d7eff",
   "metadata": {},
   "outputs": [
    {
     "name": "stdout",
     "output_type": "stream",
     "text": [
      "<mdtraj.Topology with 3 chains, 612 residues, 4899 atoms, 4988 bonds>\n"
     ]
    }
   ],
   "source": [
    "import mdtraj as md\n",
    "import numpy as np\n",
    "\n",
    "# Load the trajectory or structure file\n",
    "# Replace 'structure_file.pdb' with the actual path to your PDB or CIF file\n",
    "traj = md.load('fold_6zsl_model_0.cif')\n",
    "\n",
    "# Inspect the topology to understand the structure\n",
    "topology = traj.topology\n",
    "print(topology)"
   ]
  },
  {
   "cell_type": "code",
   "execution_count": 5,
   "id": "7cf86b40-3ff0-4175-8049-9cbff3345a34",
   "metadata": {},
   "outputs": [
    {
     "name": "stdout",
     "output_type": "stream",
     "text": [
      "Phosphate atom indices: [4739, 4759, 4779, 4799, 4819, 4839, 4859, 4879]\n",
      "Uracil oxygen atom indices: [4738, 4740, 4741, 4742, 4745, 4747, 4749, 4753, 4756, 4760, 4761, 4762, 4765, 4767, 4769, 4773, 4776, 4780, 4781, 4782, 4785, 4787, 4789, 4793, 4796, 4800, 4801, 4802, 4805, 4807, 4809, 4813, 4816, 4820, 4821, 4822, 4825, 4827, 4829, 4833, 4836, 4840, 4841, 4842, 4845, 4847, 4849, 4853, 4856, 4860, 4861, 4862, 4865, 4867, 4869, 4873, 4876, 4880, 4881, 4882, 4885, 4887, 4889, 4893, 4896]\n"
     ]
    }
   ],
   "source": [
    "# Select phosphate atoms (P) in RNA based on residue names (A, U, C, G)\n",
    "rna_residue_names = ['A', 'U', 'C', 'G']\n",
    "phosphate_indices = [atom.index for atom in topology.atoms if atom.name == 'P' and atom.residue.name in rna_residue_names]\n",
    "\n",
    "# Select oxygen atoms in uracil bases in RNA\n",
    "uracil_oxygen_indices = [atom.index for atom in topology.atoms if atom.element.symbol == 'O' and atom.residue.name == 'U']\n",
    "\n",
    "# Check the selection\n",
    "print(f\"Phosphate atom indices: {phosphate_indices}\")\n",
    "print(f\"Uracil oxygen atom indices: {uracil_oxygen_indices}\")"
   ]
  },
  {
   "cell_type": "code",
   "execution_count": 9,
   "id": "cf60fdd1-250b-4cb3-8563-8762935fba3c",
   "metadata": {},
   "outputs": [
    {
     "name": "stdout",
     "output_type": "stream",
     "text": [
      "Amino acids in NSP13 within 0.5 nm of RNA phosphate atoms:\n",
      "Residue: ASN181 - Index: 180\n",
      "Residue: CYS311 - Index: 310\n",
      "Residue: SER312 - Index: 311\n",
      "Residue: HIS313 - Index: 312\n",
      "Residue: PRO337 - Index: 336\n",
      "Residue: ALA338 - Index: 337\n",
      "Residue: ARG339 - Index: 338\n",
      "Residue: SER487 - Index: 486\n",
      "Residue: SER488 - Index: 487\n",
      "Residue: PRO516 - Index: 515\n",
      "Residue: TYR517 - Index: 516\n",
      "Residue: ASN518 - Index: 517\n",
      "Residue: THR534 - Index: 533\n",
      "Residue: ASP536 - Index: 535\n",
      "Residue: THR554 - Index: 553\n",
      "Residue: HIS556 - Index: 555\n",
      "\n",
      "Amino acids in NSP13 within 0.5 nm of uracil oxygen atoms:\n",
      "Residue: LYS148 - Index: 147\n",
      "Residue: TYR151 - Index: 150\n",
      "Residue: ASN179 - Index: 178\n",
      "Residue: ASN181 - Index: 180\n",
      "Residue: VAL183 - Index: 182\n",
      "Residue: HIS232 - Index: 231\n",
      "Residue: THR233 - Index: 232\n",
      "Residue: MET235 - Index: 234\n",
      "Residue: CYS311 - Index: 310\n",
      "Residue: SER312 - Index: 311\n",
      "Residue: HIS313 - Index: 312\n",
      "Residue: PRO337 - Index: 336\n",
      "Residue: ALA338 - Index: 337\n",
      "Residue: ARG339 - Index: 338\n",
      "Residue: ALA340 - Index: 339\n",
      "Residue: ARG341 - Index: 340\n",
      "Residue: VAL342 - Index: 341\n",
      "Residue: THR361 - Index: 360\n",
      "Residue: ASN363 - Index: 362\n",
      "Residue: ALA364 - Index: 363\n",
      "Residue: MET380 - Index: 379\n",
      "Residue: ARG392 - Index: 391\n",
      "Residue: ALA409 - Index: 408\n",
      "Residue: PRO410 - Index: 409\n",
      "Residue: ARG411 - Index: 410\n",
      "Residue: THR412 - Index: 411\n",
      "Residue: HIS484 - Index: 483\n",
      "Residue: SER487 - Index: 486\n",
      "Residue: SER488 - Index: 487\n",
      "Residue: ALA489 - Index: 488\n",
      "Residue: PRO516 - Index: 515\n",
      "Residue: TYR517 - Index: 516\n",
      "Residue: ASN518 - Index: 517\n",
      "Residue: THR534 - Index: 533\n",
      "Residue: ASP536 - Index: 535\n",
      "Residue: SER537 - Index: 536\n",
      "Residue: THR554 - Index: 553\n",
      "Residue: HIS556 - Index: 555\n",
      "Residue: SER557 - Index: 556\n",
      "Residue: ARG562 - Index: 561\n"
     ]
    }
   ],
   "source": [
    "# Calculate the contacts without specifying a cutoff, then filter manually\n",
    "# Pairwise contacts are defined as (atom.index, target_atom_index)\n",
    "contact_pairs_phosphate = [(atom.index, phosphate) for atom in topology.atoms if atom.residue.is_protein for phosphate in phosphate_indices]\n",
    "contact_pairs_uracil = [(atom.index, uracil_oxygen) for atom in topology.atoms if atom.residue.is_protein for uracil_oxygen in uracil_oxygen_indices]\n",
    "\n",
    "# Compute distances for phosphate contacts\n",
    "distances_phosphate = md.compute_distances(traj, contact_pairs_phosphate)\n",
    "\n",
    "# Compute distances for uracil oxygen contacts\n",
    "distances_uracil = md.compute_distances(traj, contact_pairs_uracil)\n",
    "\n",
    "# Define the cutoff distance in nanometers\n",
    "cutoff_distance = 0.5\n",
    "\n",
    "# Filter contacts based on the cutoff distance\n",
    "close_contacts_phosphate = [contact_pairs_phosphate[i] for i in range(len(contact_pairs_phosphate)) if np.any(distances_phosphate[:, i] < cutoff_distance)]\n",
    "close_contacts_uracil = [contact_pairs_uracil[i] for i in range(len(contact_pairs_uracil)) if np.any(distances_uracil[:, i] < cutoff_distance)]\n",
    "\n",
    "# Find residues that are close to RNA phosphate atoms\n",
    "protein_residues_near_phosphate = set([topology.atom(pair[0]).residue for pair in close_contacts_phosphate])\n",
    "\n",
    "# Find residues that are close to uracil oxygen atoms\n",
    "protein_residues_near_uracil = set([topology.atom(pair[0]).residue for pair in close_contacts_uracil])\n",
    "\n",
    "# Print the results\n",
    "print(\"Amino acids in NSP13 within 0.5 nm of RNA phosphate atoms:\")\n",
    "for residue in sorted(protein_residues_near_phosphate, key=lambda r: r.index):\n",
    "    print(f\"Residue: {residue} - Index: {residue.index}\")\n",
    "\n",
    "print(\"\\nAmino acids in NSP13 within 0.5 nm of uracil oxygen atoms:\")\n",
    "for residue in sorted(protein_residues_near_uracil, key=lambda r: r.index):\n",
    "    print(f\"Residue: {residue} - Index: {residue.index}\")"
   ]
  },
  {
   "cell_type": "markdown",
   "id": "063f4df9-0453-41d8-920c-1b1f47bedc16",
   "metadata": {},
   "source": [
    "1. The identified residues are consistent with known RNA-binding properties and likely contribute to the RNA-helicase function of NSP13.\n",
    "2. The specific pattern of interactions suggests that NSP13 has a structured RNA recognition domain, which is typical for proteins involved in RNA metabolism.\n",
    "3. Understanding these interactions provides insight into drug design, especially for antiviral strategies targeting RNA-protein interfaces."
   ]
  },
  {
   "cell_type": "code",
   "execution_count": null,
   "id": "50cb745e-9d84-45ce-8ba2-8e77c5b666d4",
   "metadata": {},
   "outputs": [],
   "source": []
  },
  {
   "cell_type": "code",
   "execution_count": null,
   "id": "841d46ab-442d-4104-ab8d-5018807b5832",
   "metadata": {},
   "outputs": [],
   "source": []
  }
 ],
 "metadata": {
  "kernelspec": {
   "display_name": "Python 3 (ipykernel)",
   "language": "python",
   "name": "python3"
  },
  "language_info": {
   "codemirror_mode": {
    "name": "ipython",
    "version": 3
   },
   "file_extension": ".py",
   "mimetype": "text/x-python",
   "name": "python",
   "nbconvert_exporter": "python",
   "pygments_lexer": "ipython3",
   "version": "3.11.7"
  }
 },
 "nbformat": 4,
 "nbformat_minor": 5
}
