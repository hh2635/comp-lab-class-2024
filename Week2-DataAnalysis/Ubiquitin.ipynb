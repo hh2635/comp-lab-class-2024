{
 "cells": [
  {
   "cell_type": "code",
   "execution_count": 16,
   "id": "4099196c-4b8f-4649-87a3-dfe076aff594",
   "metadata": {},
   "outputs": [],
   "source": [
    "import mdtraj as md"
   ]
  },
  {
   "cell_type": "code",
   "execution_count": 17,
   "id": "f836aae5-0cfd-4cb0-b1b3-358f64ba3e1f",
   "metadata": {},
   "outputs": [],
   "source": [
    "# Step 1: Load the Ubiquitin structure file (assuming you have a PDB file for ubiquitin)\n",
    "# Replace 'ubiquitin.pdb' with the actual path to your file\n",
    "ubiquitin = md.load('Data/1UBQ.pdb')\n"
   ]
  },
  {
   "cell_type": "code",
   "execution_count": 18,
   "id": "6bedaaef-8332-418e-90ff-dc5563f62243",
   "metadata": {},
   "outputs": [
    {
     "name": "stdout",
     "output_type": "stream",
     "text": [
      "Total number of hydrogen bonds: 1\n"
     ]
    }
   ],
   "source": [
    "# Step 2: Compute the total number of hydrogen bonds\n",
    "# mdtraj's 'wernet_nilsson' algorithm is used to identify hydrogen bonds\n",
    "hbonds = md.wernet_nilsson(ubiquitin)\n",
    "total_hbonds = len(hbonds)\n",
    "\n",
    "# Print the total number of hydrogen bonds\n",
    "print(f\"Total number of hydrogen bonds: {total_hbonds}\")\n"
   ]
  },
  {
   "cell_type": "code",
   "execution_count": 19,
   "id": "6f6b7a04-53a4-4a62-abf4-56330b0392b2",
   "metadata": {},
   "outputs": [
    {
     "name": "stdout",
     "output_type": "stream",
     "text": [
      "Number of helical amino acids: 18\n"
     ]
    }
   ],
   "source": [
    "# Step 3: Compute the number of helical amino acids\n",
    "# Use DSSP to assign secondary structures\n",
    "dssp = md.compute_dssp(ubiquitin)\n",
    "\n",
    "# Count the number of helical residues ('H' indicates alpha-helix)\n",
    "num_helical_amino_acids = (dssp == 'H').sum()\n",
    "\n",
    "# Print the number of helical amino acids\n",
    "print(f\"Number of helical amino acids: {num_helical_amino_acids}\")"
   ]
  },
  {
   "cell_type": "code",
   "execution_count": null,
   "id": "6ca50357-555d-4a60-8d00-bf9c09164e01",
   "metadata": {},
   "outputs": [],
   "source": []
  },
  {
   "cell_type": "code",
   "execution_count": null,
   "id": "3bf5793e-e3ed-4837-a4a5-e4a3ef4e1d9c",
   "metadata": {},
   "outputs": [],
   "source": []
  },
  {
   "cell_type": "code",
   "execution_count": null,
   "id": "68146d15-29c0-4107-b362-1fff669325dc",
   "metadata": {},
   "outputs": [],
   "source": []
  }
 ],
 "metadata": {
  "kernelspec": {
   "display_name": "Python 3 (ipykernel)",
   "language": "python",
   "name": "python3"
  },
  "language_info": {
   "codemirror_mode": {
    "name": "ipython",
    "version": 3
   },
   "file_extension": ".py",
   "mimetype": "text/x-python",
   "name": "python",
   "nbconvert_exporter": "python",
   "pygments_lexer": "ipython3",
   "version": "3.11.7"
  }
 },
 "nbformat": 4,
 "nbformat_minor": 5
}
